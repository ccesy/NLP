{
 "cells": [
  {
   "cell_type": "code",
   "execution_count": 3,
   "id": "0447f21a-5b26-4039-bf43-c9fd4bf2bec5",
   "metadata": {},
   "outputs": [],
   "source": [
    "import pandas as pd\n",
    "import jieba\n",
    "from gensim.models.word2vec import Word2Vec"
   ]
  },
  {
   "cell_type": "code",
   "execution_count": 5,
   "id": "5fe7e33c-8e0a-4668-81d2-f6b7a1089030",
   "metadata": {},
   "outputs": [],
   "source": [
    "data = pd.read_csv('train.csv')\n",
    "corpus = data['comment'].values.astype(str)\n",
    "corpus = [jieba.lcut(corpus[index]\n",
    "                      .replace(\"，\", \"\")\n",
    "                      .replace(\"!\", \"\")\n",
    "                      .replace(\"！\", \"\")\n",
    "                      .replace(\"。\", \"\")\n",
    "                      .replace(\"~\", \"\")\n",
    "                      .replace(\"；\", \"\")\n",
    "                      .replace(\"？\", \"\")\n",
    "                      .replace(\"?\", \"\")\n",
    "                      .replace(\"【\", \"\")\n",
    "                      .replace(\"】\", \"\")\n",
    "                      .replace(\"#\", \"\")\n",
    "                    ) for index in range(len(corpus))]\n"
   ]
  },
  {
   "cell_type": "code",
   "execution_count": 7,
   "id": "6444294a-9e51-42a2-b212-cc3eb261281d",
   "metadata": {},
   "outputs": [],
   "source": [
    "model = Word2Vec(corpus, sg=1, vector_size=300, window=5, min_count=3, workers=4)"
   ]
  },
  {
   "cell_type": "code",
   "execution_count": 9,
   "id": "91b19729-dc40-4024-958e-e66856977b66",
   "metadata": {},
   "outputs": [
    {
     "name": "stdout",
     "output_type": "stream",
     "text": [
      "\n",
      "1. '环境'的词向量形状: (300,)\n",
      "   '环境'的词向量前5维: [ 0.2645178   0.09956707 -0.05345648  0.21924667 -0.09821754] ...\n",
      "\n"
     ]
    }
   ],
   "source": [
    "env_vector = model.wv['环境']\n",
    "print(\"\\n1. '环境'的词向量形状:\", env_vector.shape)\n",
    "print(\"   '环境'的词向量前5维:\", env_vector[:5], \"...\\n\")"
   ]
  },
  {
   "cell_type": "code",
   "execution_count": 11,
   "id": "19bf7210-a873-4459-bc50-c63c62bd51a2",
   "metadata": {},
   "outputs": [
    {
     "name": "stdout",
     "output_type": "stream",
     "text": [
      "2. 与'好吃'最接近的3个词: [('入味', 0.8474617600440979), ('棒', 0.8423418402671814), ('好看', 0.8346779942512512)] \n",
      "\n"
     ]
    }
   ],
   "source": [
    "similar_words = model.wv.most_similar('好吃', topn=3)\n",
    "print(\"2. 与'好吃'最接近的3个词:\", similar_words, \"\\n\")"
   ]
  },
  {
   "cell_type": "code",
   "execution_count": 13,
   "id": "2b8a25fd-1838-4ef1-bc33-59dc21f1f711",
   "metadata": {},
   "outputs": [
    {
     "name": "stdout",
     "output_type": "stream",
     "text": [
      "3. 相似度计算:\n",
      "   '好吃' vs '美味': 0.78641677\n",
      "   '好吃' vs '蟑螂': 0.34350505 \n",
      "\n"
     ]
    }
   ],
   "source": [
    "sim_delicious = model.wv.similarity('好吃', '美味')\n",
    "sim_cockroach = model.wv.similarity('好吃', '蟑螂')\n",
    "print(\"3. 相似度计算:\")\n",
    "print(\"   '好吃' vs '美味':\", sim_delicious)\n",
    "print(\"   '好吃' vs '蟑螂':\", sim_cockroach, \"\\n\")"
   ]
  },
  {
   "cell_type": "code",
   "execution_count": 15,
   "id": "4479ed0e-1e63-4697-9567-8421d5c9bb68",
   "metadata": {},
   "outputs": [
    {
     "name": "stdout",
     "output_type": "stream",
     "text": [
      "4. 向量运算'餐厅 + 聚会 - 安静'的结果: ('部门', 0.9661889672279358) \n",
      "\n"
     ]
    }
   ],
   "source": [
    "result = model.wv.most_similar(positive=['餐厅', '聚会'], negative=['安静'], topn=1)\n",
    "print(\"4. 向量运算'餐厅 + 聚会 - 安静'的结果:\", result[0], \"\\n\")"
   ]
  },
  {
   "cell_type": "code",
   "execution_count": null,
   "id": "39017713-79fc-48f0-9fee-9b97b751dad4",
   "metadata": {},
   "outputs": [],
   "source": []
  }
 ],
 "metadata": {
  "kernelspec": {
   "display_name": "Python 3 (ipykernel)",
   "language": "python",
   "name": "python3"
  },
  "language_info": {
   "codemirror_mode": {
    "name": "ipython",
    "version": 3
   },
   "file_extension": ".py",
   "mimetype": "text/x-python",
   "name": "python",
   "nbconvert_exporter": "python",
   "pygments_lexer": "ipython3",
   "version": "3.9.21"
  }
 },
 "nbformat": 4,
 "nbformat_minor": 5
}
